{
 "cells": [
  {
   "cell_type": "code",
   "execution_count": 1,
   "metadata": {
    "collapsed": false
   },
   "outputs": [],
   "source": [
    "from Tkinter import *\n",
    "from PIL import Image, ImageTk\n",
    "import matplotlib.pyplot as plt"
   ]
  },
  {
   "cell_type": "code",
   "execution_count": 22,
   "metadata": {
    "collapsed": false
   },
   "outputs": [],
   "source": [
    "class WinMain(Frame):\n",
    "    def __init__(self, master=None):\n",
    "        Frame.__init__(self, master)\n",
    "        im = Image.open('19-26-01-thumb.jpg')\n",
    "        image = ImageTk.PhotoImage(im)\n",
    "        bt = Button(self, text='click', command=self.on_click, image = image)\n",
    "        bt.image = image\n",
    "        self.en = Entry(self)\n",
    "        self.lb = Label(self,text='label')\n",
    "        self.pack()\n",
    "        bt.pack()\n",
    "        self.lb.pack()\n",
    "        self.en.pack()\n",
    "        \n",
    "    def on_click(self):\n",
    "        self.lb['text'] = self.en.get()\n",
    "        self.en['width'] = 30"
   ]
  },
  {
   "cell_type": "code",
   "execution_count": 23,
   "metadata": {
    "collapsed": false
   },
   "outputs": [],
   "source": [
    "app = WinMain()\n",
    "app.master.title('Tkinter')\n",
    "app.master.geometry('300x200+500+500')\n",
    "app.mainloop()"
   ]
  },
  {
   "cell_type": "code",
   "execution_count": null,
   "metadata": {
    "collapsed": true
   },
   "outputs": [],
   "source": []
  }
 ],
 "metadata": {
  "kernelspec": {
   "display_name": "Python 2",
   "language": "python",
   "name": "python2"
  },
  "language_info": {
   "codemirror_mode": {
    "name": "ipython",
    "version": 2
   },
   "file_extension": ".py",
   "mimetype": "text/x-python",
   "name": "python",
   "nbconvert_exporter": "python",
   "pygments_lexer": "ipython2",
   "version": "2.7.12"
  }
 },
 "nbformat": 4,
 "nbformat_minor": 2
}
