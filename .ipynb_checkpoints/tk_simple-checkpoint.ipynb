{
 "cells": [
  {
   "cell_type": "code",
   "execution_count": 1,
   "metadata": {
    "collapsed": true
   },
   "outputs": [],
   "source": [
    "from Tkinter import *\n",
    "import os"
   ]
  },
  {
   "cell_type": "code",
   "execution_count": 28,
   "metadata": {
    "collapsed": true
   },
   "outputs": [],
   "source": [
    "def on_click():\n",
    "    f = os.popen('ls *.py')\n",
    "    for i in f: print i,"
   ]
  },
  {
   "cell_type": "code",
   "execution_count": 29,
   "metadata": {
    "collapsed": false
   },
   "outputs": [],
   "source": [
    "bts = [Button(text=i, command = on_click) for i in range(5)]\n",
    "lb = Label(text='this is label')"
   ]
  },
  {
   "cell_type": "code",
   "execution_count": 30,
   "metadata": {
    "collapsed": false
   },
   "outputs": [],
   "source": [
    "lb.pack()\n",
    "for i in bts: i.pack(side=LEFT)"
   ]
  },
  {
   "cell_type": "code",
   "execution_count": 31,
   "metadata": {
    "collapsed": false,
    "scrolled": true
   },
   "outputs": [
    {
     "name": "stdout",
     "output_type": "stream",
     "text": [
      "1.py\n",
      "1st.py\n",
      "2.py\n",
      "3.py\n",
      "3d.py\n",
      "4.py\n",
      "a.py\n",
      "al.py\n",
      "cameleon.py\n",
      "class.py\n",
      "coin.py\n",
      "diff.py\n",
      "digit.py\n",
      "docx.py\n",
      "eq.py\n",
      "fibo.py\n",
      "file.py\n",
      "furierseries.py\n",
      "game.py\n",
      "icon.py\n",
      "imageplot.py\n",
      "iris.py\n",
      "m.py\n",
      "mandel.py\n",
      "mysql.py\n",
      "name.py\n",
      "par.py\n",
      "perceptron.py\n",
      "pseudo.py\n",
      "pump.py\n",
      "sel.py\n",
      "sock.py\n",
      "su.py\n",
      "sympy.py\n",
      "t.py\n",
      "tk.py\n",
      "tryfinal.py\n",
      "tt.py\n",
      "wav.py\n",
      "with.py\n",
      "wordcloud.py\n"
     ]
    }
   ],
   "source": [
    "mainloop()"
   ]
  },
  {
   "cell_type": "code",
   "execution_count": null,
   "metadata": {
    "collapsed": true
   },
   "outputs": [],
   "source": []
  }
 ],
 "metadata": {
  "kernelspec": {
   "display_name": "Python 2",
   "language": "python",
   "name": "python2"
  },
  "language_info": {
   "codemirror_mode": {
    "name": "ipython",
    "version": 2
   },
   "file_extension": ".py",
   "mimetype": "text/x-python",
   "name": "python",
   "nbconvert_exporter": "python",
   "pygments_lexer": "ipython2",
   "version": "2.7.12"
  }
 },
 "nbformat": 4,
 "nbformat_minor": 2
}
