{
 "cells": [
  {
   "cell_type": "code",
   "execution_count": 1,
   "metadata": {
    "collapsed": true
   },
   "outputs": [],
   "source": [
    "from mayavi import mlab\n",
    "import numpy as np"
   ]
  },
  {
   "cell_type": "code",
   "execution_count": 2,
   "metadata": {
    "collapsed": false
   },
   "outputs": [
    {
     "data": {
      "text/plain": [
       "<mayavi.modules.surface.Surface at 0x2ad0e98a2050>"
      ]
     },
     "execution_count": 2,
     "metadata": {},
     "output_type": "execute_result"
    }
   ],
   "source": [
    "mlab.clf() # Clear the figure\n",
    "t = np.linspace(0, 20, 200)\n",
    "mlab.plot3d(np.sin(t), np.cos(t), 0.1*t, t)\n"
   ]
  },
  {
   "cell_type": "code",
   "execution_count": 5,
   "metadata": {
    "collapsed": false
   },
   "outputs": [
    {
     "data": {
      "text/plain": [
       "<mayavi.modules.surface.Surface at 0x2ad0f13a3710>"
      ]
     },
     "execution_count": 5,
     "metadata": {},
     "output_type": "execute_result"
    }
   ],
   "source": [
    "mlab.clf()\n",
    "x, y = np.mgrid[-10:10:100j, -10:10:100j]\n",
    "r = np.sqrt(x**2 + y**2)\n",
    "z = np.sin(r)/r\n",
    "mlab.surf(z, warp_scale='auto')\n"
   ]
  },
  {
   "cell_type": "code",
   "execution_count": 7,
   "metadata": {
    "collapsed": false
   },
   "outputs": [
    {
     "data": {
      "text/plain": [
       "<mayavi.modules.surface.Surface at 0x2ad0f01522f0>"
      ]
     },
     "execution_count": 7,
     "metadata": {},
     "output_type": "execute_result"
    }
   ],
   "source": [
    "mlab.clf()\n",
    "phi, theta = np.mgrid[0:np.pi:11j, 0:2*np.pi:11j]\n",
    "x = np.sin(phi) * np.cos(theta)\n",
    "y = np.sin(phi) * np.sin(theta)\n",
    "z = np.cos(phi)\n",
    "mlab.mesh(x, y, z)\n",
    "mlab.mesh(x, y, z, representation='wireframe', color=(0, 0, 0))\n"
   ]
  },
  {
   "cell_type": "code",
   "execution_count": null,
   "metadata": {
    "collapsed": true
   },
   "outputs": [],
   "source": []
  }
 ],
 "metadata": {
  "kernelspec": {
   "display_name": "Python 2",
   "language": "python",
   "name": "python2"
  },
  "language_info": {
   "codemirror_mode": {
    "name": "ipython",
    "version": 2
   },
   "file_extension": ".py",
   "mimetype": "text/x-python",
   "name": "python",
   "nbconvert_exporter": "python",
   "pygments_lexer": "ipython2",
   "version": "2.7.12"
  }
 },
 "nbformat": 4,
 "nbformat_minor": 2
}
