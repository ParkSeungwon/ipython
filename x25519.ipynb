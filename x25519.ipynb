{
 "cells": [
  {
   "cell_type": "code",
   "execution_count": 1,
   "metadata": {},
   "outputs": [],
   "source": [
    "import numpy as np\n",
    "import matplotlib.pyplot as plt"
   ]
  },
  {
   "cell_type": "code",
   "execution_count": 3,
   "metadata": {},
   "outputs": [
    {
     "name": "stderr",
     "output_type": "stream",
     "text": [
      "/usr/lib/python2.7/dist-packages/matplotlib/contour.py:1180: UserWarning: No contour levels were found within the data range.\n",
      "  warnings.warn(\"No contour levels were found\"\n"
     ]
    },
    {
     "data": {
      "image/png": "[encoded data removed]",
      "text/plain": [
       "<matplotlib.figure.Figure at 0x7fb6938d5f90>"
      ]
     },
     "metadata": {},
     "output_type": "display_data"
    }
   ],
   "source": [
    "a = 486662\n",
    "b = 0\n",
    "\n",
    "y, x = np.ogrid[-100:100:100j, -100:100:100j]\n",
    "plt.contour(x.ravel(), y.ravel(), pow(y, 2) - pow(x, 3) - x * x * a - x  - b, [0])\n",
    "a = np.arange(-2, 4, 0.01)\n",
    "b = a + 2\n",
    "plt.plot(a,b, 'r')\n",
    "plt.grid()\n",
    "plt.plot((3,3), (6,-6), 'r--')\n",
    "plt.plot((3,-1),(-5,1),'b')\n",
    "plt.plot((0.25,0.25),(6,-6),'b--')\n",
    "\n",
    "ax = plt.gca()\n",
    "ax.text(-1.5,1,'P=Q', fontsize=15)\n",
    "ax.text(2.7,5,'-R', fontsize=15)\n",
    "ax.text(3,-5,'R=2P', fontsize=15)\n",
    "ax.text(0.25, 1, '3P', fontsize=15)\n",
    "plt.savefig('ecdheplot.png')\n",
    "plt.show()"
   ]
  },
  {
   "cell_type": "code",
   "execution_count": null,
   "metadata": {},
   "outputs": [],
   "source": []
  }
 ],
 "metadata": {
  "kernelspec": {
   "display_name": "Python 2",
   "language": "python",
   "name": "python2"
  },
  "language_info": {
   "codemirror_mode": {
    "name": "ipython",
    "version": 2
   },
   "file_extension": ".py",
   "mimetype": "text/x-python",
   "name": "python",
   "nbconvert_exporter": "python",
   "pygments_lexer": "ipython2",
   "version": "2.7.15+"
  }
 },
 "nbformat": 4,
 "nbformat_minor": 2
}
