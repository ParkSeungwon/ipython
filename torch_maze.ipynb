{
 "cells": [
  {
   "cell_type": "code",
   "execution_count": 1,
   "metadata": {},
   "outputs": [],
   "source": [
    "import numpy as np\n",
    "import matplotlib.pyplot as plt\n",
    "%matplotlib inline"
   ]
  },
  {
   "cell_type": "code",
   "execution_count": 7,
   "metadata": {},
   "outputs": [
    {
     "data": {
      "image/png": "[encoded data removed]",
      "text/plain": [
       "<matplotlib.figure.Figure at 0x7fb51eebcc18>"
      ]
     },
     "metadata": {},
     "output_type": "display_data"
    }
   ],
   "source": [
    "fig = plt.figure(figsize=(5,5))\n",
    "ax = fig.gca()\n",
    "\n",
    "plt.plot([1,1], [0,1], color='red', linewidth=2)\n",
    "plt.plot([1,2], [2, 2], color='red', linewidth=2)\n",
    "plt.plot([2,2], [2,1], color='red', linewidth=2)\n",
    "plt.plot([2,3], [1,1], color='red', linewidth=2)\n",
    "plt.text(0.5, 2.3, 'START', ha='center')\n",
    "plt.text(2.5, 0.3, 'END', ha = 'center')\n",
    "\n",
    "for i in range(3):\n",
    "    for j in range(3):\n",
    "        plt.text(0.5+j, 2.5-i, 'S'+str(3*i+j), size=14, ha='center')\n",
    "        \n",
    "ax.set_xlim(0, 3)\n",
    "ax.set_ylim(0, 3)\n",
    "\n",
    "line, = ax.plot(0.5, 2.5, marker='o', color='g', markersize=60)"
   ]
  },
  {
   "cell_type": "code",
   "execution_count": 11,
   "metadata": {},
   "outputs": [],
   "source": [
    "theta_0 = np.array([[np.nan, 1, 1, np.nan], \n",
    "                             [np.nan, 1, np.nan, 1],\n",
    "                            [np.nan, np.nan, 1, 1],\n",
    "                               [1, 1, 1,np.nan],\n",
    "                           [np.nan, np.nan, 1, 1],\n",
    "                           [1, np.nan, np.nan, np.nan],\n",
    "                           [1, np.nan, np.nan, np.nan],\n",
    "                           [1, 1, np.nan, np.nan],\n",
    "                   ])"
   ]
  },
  {
   "cell_type": "code",
   "execution_count": 14,
   "metadata": {},
   "outputs": [],
   "source": [
    "def simple_convert_into_pi_from_theta(theta):\n",
    "    '''단순히 값의 비율을 계산'''\n",
    "    \n",
    "    [m, n] = theta.shape\n",
    "    pi = np.zeros((m,n))\n",
    "    for i in range(0,m):\n",
    "        pi[i,:] = theta[i, :] / np.nansum(theta[i, :])\n",
    "        \n",
    "    pi = np.nan_to_num(pi)\n",
    "    return pi\n"
   ]
  },
  {
   "cell_type": "code",
   "execution_count": 15,
   "metadata": {},
   "outputs": [],
   "source": [
    "pi_0 = simple_convert_into_pi_from_theta(theta_0)"
   ]
  },
  {
   "cell_type": "code",
   "execution_count": 16,
   "metadata": {},
   "outputs": [
    {
     "data": {
      "text/plain": [
       "array([[ 0.        ,  0.5       ,  0.5       ,  0.        ],\n",
       "       [ 0.        ,  0.5       ,  0.        ,  0.5       ],\n",
       "       [ 0.        ,  0.        ,  0.5       ,  0.5       ],\n",
       "       [ 0.33333333,  0.33333333,  0.33333333,  0.        ],\n",
       "       [ 0.        ,  0.        ,  0.5       ,  0.5       ],\n",
       "       [ 1.        ,  0.        ,  0.        ,  0.        ],\n",
       "       [ 1.        ,  0.        ,  0.        ,  0.        ],\n",
       "       [ 0.5       ,  0.5       ,  0.        ,  0.        ]])"
      ]
     },
     "execution_count": 16,
     "metadata": {},
     "output_type": "execute_result"
    }
   ],
   "source": [
    "pi_0"
   ]
  }
 ],
 "metadata": {
  "kernelspec": {
   "display_name": "Python 3",
   "language": "python",
   "name": "python3"
  },
  "language_info": {
   "codemirror_mode": {
    "name": "ipython",
    "version": 3
   },
   "file_extension": ".py",
   "mimetype": "text/x-python",
   "name": "python",
   "nbconvert_exporter": "python",
   "pygments_lexer": "ipython3",
   "version": "3.6.9"
  }
 },
 "nbformat": 4,
 "nbformat_minor": 2
}
