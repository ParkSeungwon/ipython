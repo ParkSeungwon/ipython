{
 "cells": [
  {
   "cell_type": "code",
   "execution_count": 15,
   "metadata": {
    "collapsed": false
   },
   "outputs": [],
   "source": [
    "from konlpy.tag import Kkma\n",
    "from konlpy.utils import pprint"
   ]
  },
  {
   "cell_type": "code",
   "execution_count": 16,
   "metadata": {
    "collapsed": false
   },
   "outputs": [
    {
     "name": "stdout",
     "output_type": "stream",
     "text": [
      "[(아버지, NNG),\n",
      " (가, JKS),\n",
      " (방, NNG),\n",
      " (에, JKM),\n",
      " (들어가, VV),\n",
      " (시, EPH),\n",
      " (ㄴ다, EFN),\n",
      " (., SF),\n",
      " (그, MDT),\n",
      " (방, NNG),\n",
      " (에, JKM),\n",
      " (는, JX),\n",
      " (내, NP),\n",
      " (동생, NNG),\n",
      " (이, JKS),\n",
      " (있, VV),\n",
      " (다, EFN),\n",
      " (., SF)]\n"
     ]
    }
   ],
   "source": [
    "kkma = Kkma()\n",
    "str = u'아버지가 방에 들어가신다. 그 방에는 내 동생이 있다.'\n",
    "pprint (kkma.pos(str))"
   ]
  },
  {
   "cell_type": "code",
   "execution_count": 17,
   "metadata": {
    "collapsed": false
   },
   "outputs": [
    {
     "name": "stdout",
     "output_type": "stream",
     "text": [
      "[아버지, 방, 내, 동생]\n"
     ]
    }
   ],
   "source": [
    "pprint(kkma.nouns(str))"
   ]
  }
 ],
 "metadata": {
  "kernelspec": {
   "display_name": "Python 2",
   "language": "python",
   "name": "python2"
  },
  "language_info": {
   "codemirror_mode": {
    "name": "ipython",
    "version": 2
   },
   "file_extension": ".py",
   "mimetype": "text/x-python",
   "name": "python",
   "nbconvert_exporter": "python",
   "pygments_lexer": "ipython2",
   "version": "2.7.12"
  }
 },
 "nbformat": 4,
 "nbformat_minor": 2
}
