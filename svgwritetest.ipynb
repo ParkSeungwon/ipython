{
 "cells": [
  {
   "cell_type": "code",
   "execution_count": 53,
   "metadata": {},
   "outputs": [],
   "source": [
    "from svgwrite import *"
   ]
  },
  {
   "cell_type": "code",
   "execution_count": 126,
   "metadata": {},
   "outputs": [],
   "source": [
    "dwg = svgwrite.Drawing('test.svg', profile='full')\n",
    "#dwg.add(dwg.line((0, 0), (60, 0), stroke=svgwrite.rgb(10, 10, 16, '%')))\n",
    "#dwg.add(shapes.Rect((5,5), (60,60), fill='red', stroke='blue'))\n",
    "#dwg.add(dwg.text('hello 안녕',(50,100), font_size=100))\n",
    "#dwg.add(shapes.Markers())\n",
    "#print(dwg.tostring())\n",
    "#dwg.save()"
   ]
  },
  {
   "cell_type": "code",
   "execution_count": 127,
   "metadata": {},
   "outputs": [],
   "source": [
    "font_sz = 11\n",
    "i = 1\n",
    "for text in ['Hello', 'Certificate', 'Certificate Request', 'Traffic Secret']:\n",
    "    dwg.add(shapes.Rect((10, (i-1+0.2) * font_sz), (20 * font_sz / 2, font_sz), stroke='red', fill = 'gray'))\n",
    "    dwg.add(dwg.text(text, (10, font_sz * i), font_size = font_sz))\n",
    "    i += 1.2"
   ]
  },
  {
   "cell_type": "code",
   "execution_count": 128,
   "metadata": {},
   "outputs": [
    {
     "data": {
      "text/plain": [
       "'<svg baseProfile=\"full\" height=\"100%\" version=\"1.1\" width=\"100%\" xmlns=\"http://www.w3.org/2000/svg\" xmlns:ev=\"http://www.w3.org/2001/xml-events\" xmlns:xlink=\"http://www.w3.org/1999/xlink\"><defs /><rect fill=\"gray\" height=\"11\" stroke=\"red\" width=\"110.0\" x=\"10\" y=\"2.2\" /><text font-size=\"11\" x=\"10\" y=\"11\">Hello</text><rect fill=\"gray\" height=\"11\" stroke=\"red\" width=\"110.0\" x=\"10\" y=\"15.400000000000002\" /><text font-size=\"11\" x=\"10\" y=\"24.200000000000003\">Certificate</text><rect fill=\"gray\" height=\"11\" stroke=\"red\" width=\"110.0\" x=\"10\" y=\"28.600000000000005\" /><text font-size=\"11\" x=\"10\" y=\"37.400000000000006\">Certificate Request</text><rect fill=\"gray\" height=\"11\" stroke=\"red\" width=\"110.0\" x=\"10\" y=\"41.80000000000001\" /><text font-size=\"11\" x=\"10\" y=\"50.60000000000001\">Traffic Secret</text></svg>'"
      ]
     },
     "execution_count": 128,
     "metadata": {},
     "output_type": "execute_result"
    }
   ],
   "source": [
    "dwg.tostring()"
   ]
  },
  {
   "cell_type": "code",
   "execution_count": 129,
   "metadata": {},
   "outputs": [],
   "source": [
    "dwg.save()"
   ]
  },
  {
   "cell_type": "code",
   "execution_count": 130,
   "metadata": {},
   "outputs": [],
   "source": [
    "from IPython.display import SVG"
   ]
  },
  {
   "cell_type": "code",
   "execution_count": 131,
   "metadata": {
    "scrolled": false
   },
   "outputs": [
    {
     "data": {
      "image/svg+xml": [
       "<svg baseProfile=\"full\" height=\"100%\" version=\"1.1\" width=\"100%\" xmlns=\"http://www.w3.org/2000/svg\" xmlns:ev=\"http://www.w3.org/2001/xml-events\" xmlns:xlink=\"http://www.w3.org/1999/xlink\"><defs/><rect fill=\"gray\" height=\"11\" stroke=\"red\" width=\"110.0\" x=\"10\" y=\"2.2\"/><text font-size=\"11\" x=\"10\" y=\"11\">Hello</text><rect fill=\"gray\" height=\"11\" stroke=\"red\" width=\"110.0\" x=\"10\" y=\"15.400000000000002\"/><text font-size=\"11\" x=\"10\" y=\"24.200000000000003\">Certificate</text><rect fill=\"gray\" height=\"11\" stroke=\"red\" width=\"110.0\" x=\"10\" y=\"28.600000000000005\"/><text font-size=\"11\" x=\"10\" y=\"37.400000000000006\">Certificate Request</text><rect fill=\"gray\" height=\"11\" stroke=\"red\" width=\"110.0\" x=\"10\" y=\"41.80000000000001\"/><text font-size=\"11\" x=\"10\" y=\"50.60000000000001\">Traffic Secret</text></svg>"
      ],
      "text/plain": [
       "<IPython.core.display.SVG object>"
      ]
     },
     "metadata": {},
     "output_type": "display_data"
    }
   ],
   "source": [
    "display(SVG(dwg.tostring()))"
   ]
  },
  {
   "cell_type": "code",
   "execution_count": null,
   "metadata": {},
   "outputs": [],
   "source": []
  }
 ],
 "metadata": {
  "kernelspec": {
   "display_name": "Python 2",
   "language": "python",
   "name": "python2"
  },
  "language_info": {
   "codemirror_mode": {
    "name": "ipython",
    "version": 3
   },
   "file_extension": ".py",
   "mimetype": "text/x-python",
   "name": "python",
   "nbconvert_exporter": "python",
   "pygments_lexer": "ipython3",
   "version": "3.6.8"
  }
 },
 "nbformat": 4,
 "nbformat_minor": 2
}
